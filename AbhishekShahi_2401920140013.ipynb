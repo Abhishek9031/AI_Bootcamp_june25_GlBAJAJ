{
  "nbformat": 4,
  "nbformat_minor": 0,
  "metadata": {
    "colab": {
      "provenance": []
    },
    "kernelspec": {
      "name": "python3",
      "display_name": "Python 3"
    },
    "language_info": {
      "name": "python"
    }
  },
  "cells": [
    {
      "cell_type": "code",
      "execution_count": 9,
      "metadata": {
        "colab": {
          "base_uri": "https://localhost:8080/"
        },
        "id": "RMHKBujxdIYL",
        "outputId": "35d6e6c7-fab1-4a1c-fab4-5bdc48a45d22"
      },
      "outputs": [
        {
          "output_type": "stream",
          "name": "stdout",
          "text": [
            "hello world\n",
            "Alice\n"
          ]
        }
      ],
      "source": [
        "print(\"hello world\") # this is a Hello world"
      ]
    }
  ]
}