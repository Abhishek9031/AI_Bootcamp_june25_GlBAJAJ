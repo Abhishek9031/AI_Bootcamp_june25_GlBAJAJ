{
  "nbformat": 4,
  "nbformat_minor": 0,
  "metadata": {
    "colab": {
      "provenance": []
    },
    "kernelspec": {
      "name": "python3",
      "display_name": "Python 3"
    },
    "language_info": {
      "name": "python"
    }
  },
  "cells": [
    {
      "cell_type": "code",
      "execution_count": 2,
      "metadata": {
        "colab": {
          "base_uri": "https://localhost:8080/"
        },
        "id": "lWMUqW4IJsLm",
        "outputId": "3ca8f692-0ed2-4b4d-b9e6-feef517ad3b0"
      },
      "outputs": [
        {
          "output_type": "stream",
          "name": "stdout",
          "text": [
            "1 John\n",
            "2 John\n",
            "3 John\n",
            "4 John\n",
            "5 John\n"
          ]
        }
      ],
      "source": [
        "num =1\n",
        "while num<=5:\n",
        "      print(num,\"John\")\n",
        "      num=num+1"
      ]
    },
    {
      "cell_type": "code",
      "source": [
        "for i in range(3):\n",
        "    for j in range(2):\n",
        "        print(\"i=\",i,\"j =\",j)"
      ],
      "metadata": {
        "colab": {
          "base_uri": "https://localhost:8080/"
        },
        "id": "hqxAjXwbKnw7",
        "outputId": "bc3d763d-bf1d-4720-892e-48ef70b14b63"
      },
      "execution_count": 3,
      "outputs": [
        {
          "output_type": "stream",
          "name": "stdout",
          "text": [
            "i= 0 j = 0\n",
            "i= 0 j = 1\n",
            "i= 1 j = 0\n",
            "i= 1 j = 1\n",
            "i= 2 j = 0\n",
            "i= 2 j = 1\n"
          ]
        }
      ]
    },
    {
      "cell_type": "code",
      "source": [
        "def add(a,b):\n",
        "   print(a+b)\n",
        "def sub(a,b):\n",
        "    print(a-b)\n",
        "def mul(a,b):\n",
        "    print(a**b)\n",
        "def div(a,b):\n",
        "     print(a/b)\n",
        "def rem(a,b):\n",
        "    print(a%b)\n",
        "\n",
        "add(2,3)\n",
        "sub(3,2)\n",
        "mul(4,3)\n",
        "div(4,2)\n",
        "rem(5,3)\n",
        ""
      ],
      "metadata": {
        "colab": {
          "base_uri": "https://localhost:8080/"
        },
        "id": "SIS9rzD-L8lj",
        "outputId": "b58313c4-adce-4802-d039-e6fb7b1c2ed4"
      },
      "execution_count": 11,
      "outputs": [
        {
          "output_type": "stream",
          "name": "stdout",
          "text": [
            "5\n",
            "1\n",
            "64\n",
            "2.0\n",
            "2\n"
          ]
        }
      ]
    }
  ]
}